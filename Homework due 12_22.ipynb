{
 "cells": [
  {
   "cell_type": "code",
   "execution_count": 1,
   "id": "4e1430de",
   "metadata": {},
   "outputs": [
    {
     "name": "stdout",
     "output_type": "stream",
     "text": [
      "input your first nameJon\n"
     ]
    }
   ],
   "source": [
    "first_name = input(\"input your first name\")"
   ]
  },
  {
   "cell_type": "code",
   "execution_count": 2,
   "id": "a3c7e8f6",
   "metadata": {},
   "outputs": [
    {
     "name": "stdout",
     "output_type": "stream",
     "text": [
      "input your last namedunn\n"
     ]
    }
   ],
   "source": [
    "last_name = input(\"input your last name\")"
   ]
  },
  {
   "cell_type": "code",
   "execution_count": 3,
   "id": "022f6214",
   "metadata": {},
   "outputs": [
    {
     "name": "stdout",
     "output_type": "stream",
     "text": [
      "dunn Jon\n"
     ]
    }
   ],
   "source": [
    "print(last_name, first_name)"
   ]
  },
  {
   "cell_type": "code",
   "execution_count": null,
   "id": "fc8c0ff7",
   "metadata": {},
   "outputs": [],
   "source": [
    "n = int(input(\"enter a number between 1 and 9\"))"
   ]
  },
  {
   "cell_type": "code",
   "execution_count": 2,
   "id": "dfa942e2",
   "metadata": {},
   "outputs": [
    {
     "name": "stdout",
     "output_type": "stream",
     "text": [
      "861\n"
     ]
    }
   ],
   "source": [
    "n1 = int( \"%s\" % n )"
   ]
  },
  {
   "cell_type": "code",
   "execution_count": 3,
   "id": "0e0b6021",
   "metadata": {},
   "outputs": [],
   "source": [
    "n2 = int( \"%s%s\" % (n,n) )"
   ]
  },
  {
   "cell_type": "code",
   "execution_count": 4,
   "id": "d6bc8936",
   "metadata": {},
   "outputs": [],
   "source": [
    "n3 = int( \"%s%s%s\" % (n,n,n) )"
   ]
  },
  {
   "cell_type": "code",
   "execution_count": 5,
   "id": "7a7657a1",
   "metadata": {},
   "outputs": [
    {
     "name": "stdout",
     "output_type": "stream",
     "text": [
      "861\n"
     ]
    }
   ],
   "source": [
    "print (n1+n2+n3)"
   ]
  },
  {
   "cell_type": "code",
   "execution_count": 8,
   "id": "4c7a8b30",
   "metadata": {},
   "outputs": [
    {
     "name": "stdout",
     "output_type": "stream",
     "text": [
      "What country are you from?Canada\n"
     ]
    }
   ],
   "source": [
    "country = input(\"What country are you from?\")"
   ]
  },
  {
   "cell_type": "code",
   "execution_count": 9,
   "id": "1637a949",
   "metadata": {},
   "outputs": [
    {
     "name": "stdout",
     "output_type": "stream",
     "text": [
      "I heard that Canada was a beautiful country\n"
     ]
    }
   ],
   "source": [
    "print(\"I heard that\", country, \"was a beautiful country\")"
   ]
  },
  {
   "cell_type": "code",
   "execution_count": 14,
   "id": "0047fabd",
   "metadata": {},
   "outputs": [],
   "source": [
    "x = 10"
   ]
  },
  {
   "cell_type": "code",
   "execution_count": 15,
   "id": "5f6e7803",
   "metadata": {},
   "outputs": [],
   "source": [
    "y = 50"
   ]
  },
  {
   "cell_type": "code",
   "execution_count": null,
   "id": "e8950436",
   "metadata": {},
   "outputs": [],
   "source": [
    "if (x ** 2 > 100 and y < 100):\n",
    "    print(x, y)"
   ]
  },
  {
   "cell_type": "code",
   "execution_count": 28,
   "id": "8e7b6b0f",
   "metadata": {},
   "outputs": [],
   "source": [
    "a = [10, 20]"
   ]
  },
  {
   "cell_type": "code",
   "execution_count": 29,
   "id": "57f2b203",
   "metadata": {},
   "outputs": [],
   "source": [
    "b = a"
   ]
  },
  {
   "cell_type": "code",
   "execution_count": 30,
   "id": "9d2c23fd",
   "metadata": {},
   "outputs": [],
   "source": [
    "b += [30, 40]"
   ]
  },
  {
   "cell_type": "code",
   "execution_count": 31,
   "id": "7b51ed1a",
   "metadata": {},
   "outputs": [
    {
     "name": "stdout",
     "output_type": "stream",
     "text": [
      "[10, 20, 30, 40]\n"
     ]
    }
   ],
   "source": [
    "print(a)"
   ]
  },
  {
   "cell_type": "code",
   "execution_count": 32,
   "id": "c8f52366",
   "metadata": {},
   "outputs": [
    {
     "name": "stdout",
     "output_type": "stream",
     "text": [
      "[10, 20, 30, 40]\n"
     ]
    }
   ],
   "source": [
    "print(b)"
   ]
  },
  {
   "cell_type": "code",
   "execution_count": 33,
   "id": "867744ae",
   "metadata": {},
   "outputs": [
    {
     "name": "stdout",
     "output_type": "stream",
     "text": [
      "2\n"
     ]
    }
   ],
   "source": [
    "print(2%6)"
   ]
  },
  {
   "cell_type": "code",
   "execution_count": 34,
   "id": "f4a5905a",
   "metadata": {},
   "outputs": [
    {
     "name": "stdout",
     "output_type": "stream",
     "text": [
      "216\n"
     ]
    }
   ],
   "source": [
    "print(2 * 3 ** 3 * 4)"
   ]
  },
  {
   "cell_type": "code",
   "execution_count": null,
   "id": "298d6607",
   "metadata": {},
   "outputs": [],
   "source": []
  },
  {
   "cell_type": "code",
   "execution_count": null,
   "id": "5e38e214",
   "metadata": {},
   "outputs": [],
   "source": []
  }
 ],
 "metadata": {
  "kernelspec": {
   "display_name": "Python 3 (ipykernel)",
   "language": "python",
   "name": "python3"
  },
  "language_info": {
   "codemirror_mode": {
    "name": "ipython",
    "version": 3
   },
   "file_extension": ".py",
   "mimetype": "text/x-python",
   "name": "python",
   "nbconvert_exporter": "python",
   "pygments_lexer": "ipython3",
   "version": "3.9.13"
  }
 },
 "nbformat": 4,
 "nbformat_minor": 5
}
