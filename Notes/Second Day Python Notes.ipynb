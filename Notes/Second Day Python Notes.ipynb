{
 "cells": [
  {
   "cell_type": "code",
   "execution_count": 3,
   "id": "07828e61",
   "metadata": {},
   "outputs": [],
   "source": [
    "#DAta Types\n",
    "my_string=\"This is a string\"\n",
    "my_int=45\n",
    "my_boolean=True"
   ]
  },
  {
   "cell_type": "code",
   "execution_count": 4,
   "id": "1b403c63",
   "metadata": {},
   "outputs": [
    {
     "data": {
      "text/plain": [
       "str"
      ]
     },
     "execution_count": 4,
     "metadata": {},
     "output_type": "execute_result"
    }
   ],
   "source": [
    "type(my_string)"
   ]
  },
  {
   "cell_type": "code",
   "execution_count": 5,
   "id": "d605a601",
   "metadata": {},
   "outputs": [
    {
     "name": "stdout",
     "output_type": "stream",
     "text": [
      "True\n"
     ]
    }
   ],
   "source": [
    "print(my_boolean)"
   ]
  },
  {
   "cell_type": "code",
   "execution_count": 3,
   "id": "bef2d271",
   "metadata": {},
   "outputs": [
    {
     "name": "stdout",
     "output_type": "stream",
     "text": [
      "Enter a number between 1&55\n"
     ]
    }
   ],
   "source": [
    "my_input=input(\"Enter a number between 1&5\")"
   ]
  },
  {
   "cell_type": "code",
   "execution_count": 4,
   "id": "ac76674a",
   "metadata": {},
   "outputs": [
    {
     "data": {
      "text/plain": [
       "str"
      ]
     },
     "execution_count": 4,
     "metadata": {},
     "output_type": "execute_result"
    }
   ],
   "source": [
    "type(my_input)"
   ]
  },
  {
   "cell_type": "code",
   "execution_count": 5,
   "id": "35115156",
   "metadata": {},
   "outputs": [
    {
     "data": {
      "text/plain": [
       "False"
      ]
     },
     "execution_count": 5,
     "metadata": {},
     "output_type": "execute_result"
    }
   ],
   "source": [
    "my_input==5"
   ]
  },
  {
   "cell_type": "code",
   "execution_count": null,
   "id": "5ac56a02",
   "metadata": {},
   "outputs": [],
   "source": [
    "#Functions\n",
    "#Reusable pieces of code that carry out a specific task.\n",
    "#Like math functions -> Consistent output based on input\n",
    "#Single Responsibility Principle - Every function we write should accomplish 1 task\n",
    "\n",
    "#Syntax - a set of instructions to give a computer\n",
    "#Syntax for defining a function- def name_of_the_function(parameter_1, parameter_2, etc):\n",
    "#            #code to carry out"
   ]
  },
  {
   "cell_type": "code",
   "execution_count": 9,
   "id": "37a62127",
   "metadata": {},
   "outputs": [],
   "source": [
    "#Inside of a function's parentheses are the parameters\n",
    "#When we define a functions these are\n",
    "def adds_two_things_together(x,y):\n",
    "    print(x+y)"
   ]
  },
  {
   "cell_type": "code",
   "execution_count": 10,
   "id": "766da693",
   "metadata": {},
   "outputs": [
    {
     "name": "stdout",
     "output_type": "stream",
     "text": [
      "193\n"
     ]
    }
   ],
   "source": [
    "#Function Call\n",
    "#Syntax for calling a function - name_of_the_function(argument_1, argument_2)\n",
    "adds_two_things_together(55, 138)"
   ]
  },
  {
   "cell_type": "code",
   "execution_count": 12,
   "id": "21596b14",
   "metadata": {},
   "outputs": [
    {
     "name": "stdout",
     "output_type": "stream",
     "text": [
      "Hello World\n"
     ]
    }
   ],
   "source": [
    "adds_two_things_together(\"Hello \", \"World\")"
   ]
  },
  {
   "cell_type": "code",
   "execution_count": null,
   "id": "1a661b25",
   "metadata": {},
   "outputs": [],
   "source": [
    "#Python is a dynamic programming language"
   ]
  },
  {
   "cell_type": "code",
   "execution_count": 14,
   "id": "254c44bf",
   "metadata": {},
   "outputs": [],
   "source": [
    "def no_arguments():\n",
    "    print(\"Hello World!\")"
   ]
  },
  {
   "cell_type": "code",
   "execution_count": 16,
   "id": "58422581",
   "metadata": {},
   "outputs": [
    {
     "name": "stdout",
     "output_type": "stream",
     "text": [
      "Hello World!\n"
     ]
    }
   ],
   "source": [
    "no_arguments()"
   ]
  },
  {
   "cell_type": "code",
   "execution_count": 21,
   "id": "d4b8f588",
   "metadata": {},
   "outputs": [],
   "source": [
    "x=\"We are\"\n",
    "y=\"in\"\n",
    "z=\"class\""
   ]
  },
  {
   "cell_type": "code",
   "execution_count": 22,
   "id": "08514de5",
   "metadata": {},
   "outputs": [
    {
     "name": "stdout",
     "output_type": "stream",
     "text": [
      "We areinclass\n"
     ]
    }
   ],
   "source": [
    "print(x+y+z)"
   ]
  },
  {
   "cell_type": "code",
   "execution_count": null,
   "id": "f20be27c",
   "metadata": {},
   "outputs": [],
   "source": [
    "#Return\n",
    "#Return - Return statements end the function call\n",
    "            #Return statements are equivolent to the function call"
   ]
  },
  {
   "cell_type": "code",
   "execution_count": 26,
   "id": "1d882b6a",
   "metadata": {},
   "outputs": [],
   "source": [
    "def example_function(parameter_1, parameter_2):\n",
    "    return (parameter_1 * parameter_2)\n",
    "    print(\"Hello World!\")\n",
    "    "
   ]
  },
  {
   "cell_type": "code",
   "execution_count": 27,
   "id": "a322104c",
   "metadata": {},
   "outputs": [
    {
     "data": {
      "text/plain": [
       "25"
      ]
     },
     "execution_count": 27,
     "metadata": {},
     "output_type": "execute_result"
    }
   ],
   "source": [
    "example_function(5,5)\n"
   ]
  },
  {
   "cell_type": "code",
   "execution_count": null,
   "id": "ab57f33c",
   "metadata": {},
   "outputs": [],
   "source": []
  }
 ],
 "metadata": {
  "kernelspec": {
   "display_name": "Python 3 (ipykernel)",
   "language": "python",
   "name": "python3"
  },
  "language_info": {
   "codemirror_mode": {
    "name": "ipython",
    "version": 3
   },
   "file_extension": ".py",
   "mimetype": "text/x-python",
   "name": "python",
   "nbconvert_exporter": "python",
   "pygments_lexer": "ipython3",
   "version": "3.9.13"
  }
 },
 "nbformat": 4,
 "nbformat_minor": 5
}
