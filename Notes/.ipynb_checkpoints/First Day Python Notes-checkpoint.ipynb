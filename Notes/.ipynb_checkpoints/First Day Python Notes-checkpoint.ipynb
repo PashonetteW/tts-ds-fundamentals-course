{
 "cells": [
  {
   "cell_type": "markdown",
   "id": "ec03c6f3",
   "metadata": {},
   "source": [
    "# 12/15/2022 \n",
    "Project 350\n",
    "\n",
    "This is a markdown cell"
   ]
  },
  {
   "cell_type": "code",
   "execution_count": 1,
   "id": "476bfe67",
   "metadata": {},
   "outputs": [
    {
     "name": "stdout",
     "output_type": "stream",
     "text": [
      "Hello World\n"
     ]
    }
   ],
   "source": [
    "print(\"Hello World\")\n",
    "#Hashtag is for single line comments\n",
    "\"\"\"3quotes are for Multi-line Comments\"\"\"\n",
    "\n",
    "\"\"\"\n",
    "One-line\n",
    "Two-line\n",
    "\"\"\""
   ]
  },
  {
   "cell_type": "code",
   "execution_count": null,
   "id": "5c574d8d",
   "metadata": {},
   "outputs": [],
   "source": [
    "#Data Types\n",
    "my_bool = True\n",
    "my_bool_two = False\n",
    "my_int = 55\n",
    "my_float = 4.3\n",
    "my_string = \"Hello World\"\n",
    "two_string = 'Hello World'\n",
    "three_string = \"\"\"Hello World\"\"\""
   ]
  },
  {
   "cell_type": "code",
   "execution_count": 4,
   "id": "7f88a7f6",
   "metadata": {},
   "outputs": [],
   "source": [
    "#Variable Settings\n",
    "#python variable must start with an underscore or a letter\n",
    "_my_var = 5555"
   ]
  },
  {
   "cell_type": "code",
   "execution_count": 5,
   "id": "216f7023",
   "metadata": {},
   "outputs": [
    {
     "name": "stdout",
     "output_type": "stream",
     "text": [
      "5555\n"
     ]
    }
   ],
   "source": [
    "print(_my_var)"
   ]
  },
  {
   "cell_type": "code",
   "execution_count": 20,
   "id": "cb94920c",
   "metadata": {},
   "outputs": [],
   "source": [
    "#Math in Python\n",
    "#Pemdas\n",
    "x=4\n",
    "y=5"
   ]
  },
  {
   "cell_type": "code",
   "execution_count": 7,
   "id": "d7b09de2",
   "metadata": {},
   "outputs": [
    {
     "name": "stdout",
     "output_type": "stream",
     "text": [
      "9\n"
     ]
    }
   ],
   "source": [
    "print (x+y)"
   ]
  },
  {
   "cell_type": "code",
   "execution_count": 10,
   "id": "7666e3e4",
   "metadata": {},
   "outputs": [
    {
     "name": "stdout",
     "output_type": "stream",
     "text": [
      "0.8\n"
     ]
    }
   ],
   "source": [
    "Division\n",
    "z=x/y\n",
    "print (z)"
   ]
  },
  {
   "cell_type": "markdown",
   "id": "d15b7315",
   "metadata": {},
   "source": [
    "### type(z)"
   ]
  },
  {
   "cell_type": "code",
   "execution_count": 12,
   "id": "62e4c952",
   "metadata": {},
   "outputs": [
    {
     "data": {
      "text/plain": [
       "0"
      ]
     },
     "execution_count": 12,
     "metadata": {},
     "output_type": "execute_result"
    }
   ],
   "source": [
    "#Florr Division \"Floors\" any floating point value (rounds down) (decimal is removed)\n",
    "x//y"
   ]
  },
  {
   "cell_type": "code",
   "execution_count": 9,
   "id": "bd4590cd",
   "metadata": {},
   "outputs": [
    {
     "name": "stdout",
     "output_type": "stream",
     "text": [
      "20\n"
     ]
    }
   ],
   "source": [
    "Multiplication\n",
    "print (x*y)"
   ]
  },
  {
   "cell_type": "code",
   "execution_count": 11,
   "id": "ca6beabb",
   "metadata": {},
   "outputs": [
    {
     "data": {
      "text/plain": [
       "4"
      ]
     },
     "execution_count": 11,
     "metadata": {},
     "output_type": "execute_result"
    }
   ],
   "source": [
    "Exponents\n",
    "2**2"
   ]
  },
  {
   "cell_type": "code",
   "execution_count": 14,
   "id": "86d07a6f",
   "metadata": {},
   "outputs": [
    {
     "data": {
      "text/plain": [
       "1"
      ]
     },
     "execution_count": 14,
     "metadata": {},
     "output_type": "execute_result"
    }
   ],
   "source": [
    "#Modula - Returns the remainder\n",
    "5%4"
   ]
  },
  {
   "cell_type": "code",
   "execution_count": null,
   "id": "620b7dc6",
   "metadata": {},
   "outputs": [],
   "source": [
    "#Comparison Operators - All of these statements will result in a boolean\n",
    "#x>y ~ x is greater than y\n",
    "#x<y ~ x is less than y\n",
    "#x>=y ~ x is greater than or equal to y\n",
    "#x<=y ~ x is less than or equal to y\n",
    "#X=!y ~ x is not equal to y\n",
    "#x==y ~ x is equal to y"
   ]
  },
  {
   "cell_type": "code",
   "execution_count": 16,
   "id": "e2f8281d",
   "metadata": {},
   "outputs": [
    {
     "name": "stdout",
     "output_type": "stream",
     "text": [
      "execute this\n"
     ]
    }
   ],
   "source": [
    "if x>y:\n",
    "    print(\"Execute this\")\n",
    "elif x<y:\n",
    "vvmmm\\\\j,mj,    print(\"execute this\")\n",
    "else:\n",
    "    print(\"do this\")"
   ]
  },
  {
   "cell_type": "code",
   "execution_count": 22,
   "id": "4341030a",
   "metadata": {},
   "outputs": [],
   "source": [
    "cwvvhile y<4:\n",
    "b    print(\"This code will execute!\")"
   ]
  },
  {
   "cell_type": "code",
   "execution_count": null,
   "id": "ff3b98c6",
   "metadata": {},
   "outputs": [],
   "source": [
    "#Shfort Circuit Operators\n",
    "#afnd\n",
    "hg#or"
   ]
  },
  {
   "cell_type": "code",
   "execution_count": null,
   "id": "caf6f54f",
   "metadata": {},
   "outputs": [],
   "source": [
    "#Data Structures"
   ]
  },
  {
   "cell_type": "code",
   "execution_count": 17,
   "id": "a85a2436",
   "metadata": {},
   "outputs": [
    {
     "name": "stdout",
     "output_type": "stream",
     "text": [
      "enter a number between 1 and 5:3\n"
     ]
    }
   ],
   "source": [
    "#Ihnput Functions ~ Takes input from the user\n",
    "im nput_example=input(\"enter a number between 1 and 5:\")\n",
    "ytb "
   ]
  },
  {
   "cell_type": "code",
   "execution_count": 18,
   "id": "7d806eeb",
   "metadata": {},
   "outputs": [
    {
     "name": "stdout",
     "output_type": "stream",
     "text": [
      "3\n"
     ]
    }
   ],
   "source": [
    "vprint(input_example    ) v"
   ]
  },
  {
   "cell_type": "code",
   "execution_count": null,
   "id": "492a7252",
   "metadata": {},
   "outputs": [],
   "source": [
    "first_name = input(\"input your first name\")\n",
    "last_name = input(\"input your last name\")\n",
    "print(last_name, first_name)"
   ]
  },
  {
   "cell_type": "code",
   "execution_count": null,
   "id": "e24379f3",
   "metadata": {},
   "outputs": [],
   "source": []
  },
  {
   "cell_type": "code",
   "execution_count": null,
   "id": "dbecb64a",
   "metadata": {},
   "outputs": [],
   "source": []
  }
 ],
 "metadata": {
  "kernelspec": {
   "display_name": "Python 3 (ipykernel)",
   "language": "python",
   "name": "python3"
  },
  "language_info": {
   "codemirror_mode": {
    "name": "ipython",
    "version": 3
   },
   "file_extension": ".py",
   "mimetype": "text/x-python",
   "name": "python",
   "nbconvert_exporter": "python",
   "pygments_lexer": "ipython3",
   "version": "3.9.13"
  }
 },
 "nbformat": 4,
 "nbformat_minor": 5
}
